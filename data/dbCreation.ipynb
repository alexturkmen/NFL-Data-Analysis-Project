{
 "cells": [
  {
   "cell_type": "code",
   "execution_count": 1,
   "metadata": {},
   "outputs": [],
   "source": [
    "import pandas as pd\n",
    "from sqlalchemy import create_engine\n",
    "from pathlib import Path"
   ]
  },
  {
   "cell_type": "markdown",
   "metadata": {},
   "source": [
    "## Import Data and Create Tables"
   ]
  },
  {
   "cell_type": "code",
   "execution_count": 2,
   "metadata": {},
   "outputs": [
    {
     "data": {
      "text/html": [
       "<div>\n",
       "<style scoped>\n",
       "    .dataframe tbody tr th:only-of-type {\n",
       "        vertical-align: middle;\n",
       "    }\n",
       "\n",
       "    .dataframe tbody tr th {\n",
       "        vertical-align: top;\n",
       "    }\n",
       "\n",
       "    .dataframe thead th {\n",
       "        text-align: right;\n",
       "    }\n",
       "</style>\n",
       "<table border=\"1\" class=\"dataframe\">\n",
       "  <thead>\n",
       "    <tr style=\"text-align: right;\">\n",
       "      <th></th>\n",
       "      <th>position</th>\n",
       "      <th>offenseDefense</th>\n",
       "    </tr>\n",
       "  </thead>\n",
       "  <tbody>\n",
       "    <tr>\n",
       "      <th>0</th>\n",
       "      <td>QB</td>\n",
       "      <td>offense</td>\n",
       "    </tr>\n",
       "    <tr>\n",
       "      <th>1</th>\n",
       "      <td>LB</td>\n",
       "      <td>defense</td>\n",
       "    </tr>\n",
       "    <tr>\n",
       "      <th>2</th>\n",
       "      <td>DB</td>\n",
       "      <td>defense</td>\n",
       "    </tr>\n",
       "    <tr>\n",
       "      <th>3</th>\n",
       "      <td>WR</td>\n",
       "      <td>offense</td>\n",
       "    </tr>\n",
       "    <tr>\n",
       "      <th>4</th>\n",
       "      <td>CB</td>\n",
       "      <td>defense</td>\n",
       "    </tr>\n",
       "  </tbody>\n",
       "</table>\n",
       "</div>"
      ],
      "text/plain": [
       "  position offenseDefense\n",
       "0       QB        offense\n",
       "1       LB        defense\n",
       "2       DB        defense\n",
       "3       WR        offense\n",
       "4       CB        defense"
      ]
     },
     "execution_count": 2,
     "metadata": {},
     "output_type": "execute_result"
    }
   ],
   "source": [
    "positionPath = Path.cwd() / 'positions.csv'\n",
    "positions = pd.read_csv(positionPath, header=None)\n",
    "positions.columns = ['position', 'offenseDefense']\n",
    "positions.head()"
   ]
  },
  {
   "cell_type": "code",
   "execution_count": 3,
   "metadata": {},
   "outputs": [
    {
     "data": {
      "text/html": [
       "<div>\n",
       "<style scoped>\n",
       "    .dataframe tbody tr th:only-of-type {\n",
       "        vertical-align: middle;\n",
       "    }\n",
       "\n",
       "    .dataframe tbody tr th {\n",
       "        vertical-align: top;\n",
       "    }\n",
       "\n",
       "    .dataframe thead th {\n",
       "        text-align: right;\n",
       "    }\n",
       "</style>\n",
       "<table border=\"1\" class=\"dataframe\">\n",
       "  <thead>\n",
       "    <tr style=\"text-align: right;\">\n",
       "      <th></th>\n",
       "      <th>teamName</th>\n",
       "      <th>teamAbbrv</th>\n",
       "      <th>teamState</th>\n",
       "      <th>teamCity</th>\n",
       "    </tr>\n",
       "  </thead>\n",
       "  <tbody>\n",
       "    <tr>\n",
       "      <th>0</th>\n",
       "      <td>Arizona Cardinals</td>\n",
       "      <td>ARI</td>\n",
       "      <td>Arizona</td>\n",
       "      <td>Glendale</td>\n",
       "    </tr>\n",
       "    <tr>\n",
       "      <th>1</th>\n",
       "      <td>Atlanta Falcons</td>\n",
       "      <td>ATL</td>\n",
       "      <td>Georgia</td>\n",
       "      <td>Atlanta</td>\n",
       "    </tr>\n",
       "    <tr>\n",
       "      <th>2</th>\n",
       "      <td>Baltimore Ravens</td>\n",
       "      <td>BAL</td>\n",
       "      <td>Maryland</td>\n",
       "      <td>Baltimore</td>\n",
       "    </tr>\n",
       "    <tr>\n",
       "      <th>3</th>\n",
       "      <td>Buffalo Bills</td>\n",
       "      <td>BUF</td>\n",
       "      <td>New York</td>\n",
       "      <td>Orchard Park</td>\n",
       "    </tr>\n",
       "    <tr>\n",
       "      <th>4</th>\n",
       "      <td>Carolina Panthers</td>\n",
       "      <td>CAR</td>\n",
       "      <td>North Carolina</td>\n",
       "      <td>Charlotte</td>\n",
       "    </tr>\n",
       "  </tbody>\n",
       "</table>\n",
       "</div>"
      ],
      "text/plain": [
       "            teamName teamAbbrv       teamState      teamCity\n",
       "0  Arizona Cardinals       ARI         Arizona      Glendale\n",
       "1    Atlanta Falcons       ATL         Georgia       Atlanta\n",
       "2   Baltimore Ravens       BAL        Maryland     Baltimore\n",
       "3      Buffalo Bills       BUF        New York  Orchard Park\n",
       "4  Carolina Panthers       CAR  North Carolina     Charlotte"
      ]
     },
     "execution_count": 3,
     "metadata": {},
     "output_type": "execute_result"
    }
   ],
   "source": [
    "teamsPath = Path.cwd() / 'teams.csv'\n",
    "teams = pd.read_csv(teamsPath, header=None)\n",
    "teams.columns = ['teamName','teamAbbrv','teamState','teamCity']\n",
    "teams.head()"
   ]
  },
  {
   "cell_type": "code",
   "execution_count": 4,
   "metadata": {},
   "outputs": [
    {
     "data": {
      "text/html": [
       "<div>\n",
       "<style scoped>\n",
       "    .dataframe tbody tr th:only-of-type {\n",
       "        vertical-align: middle;\n",
       "    }\n",
       "\n",
       "    .dataframe tbody tr th {\n",
       "        vertical-align: top;\n",
       "    }\n",
       "\n",
       "    .dataframe thead th {\n",
       "        text-align: right;\n",
       "    }\n",
       "</style>\n",
       "<table border=\"1\" class=\"dataframe\">\n",
       "  <thead>\n",
       "    <tr style=\"text-align: right;\">\n",
       "      <th></th>\n",
       "      <th>teamName</th>\n",
       "      <th>playerName</th>\n",
       "      <th>year</th>\n",
       "      <th>salary</th>\n",
       "    </tr>\n",
       "  </thead>\n",
       "  <tbody>\n",
       "    <tr>\n",
       "      <th>0</th>\n",
       "      <td>Drew Brees</td>\n",
       "      <td>NOR</td>\n",
       "      <td>$26,400,000</td>\n",
       "      <td>2015</td>\n",
       "    </tr>\n",
       "    <tr>\n",
       "      <th>1</th>\n",
       "      <td>Philip Rivers</td>\n",
       "      <td>SDG</td>\n",
       "      <td>$21,166,668</td>\n",
       "      <td>2015</td>\n",
       "    </tr>\n",
       "    <tr>\n",
       "      <th>2</th>\n",
       "      <td>Calvin Johnson</td>\n",
       "      <td>DET</td>\n",
       "      <td>$20,558,000</td>\n",
       "      <td>2015</td>\n",
       "    </tr>\n",
       "    <tr>\n",
       "      <th>3</th>\n",
       "      <td>Charles Johnson</td>\n",
       "      <td>CAR</td>\n",
       "      <td>$20,020,000</td>\n",
       "      <td>2015</td>\n",
       "    </tr>\n",
       "    <tr>\n",
       "      <th>4</th>\n",
       "      <td>Matt Ryan</td>\n",
       "      <td>ATL</td>\n",
       "      <td>$19,500,000</td>\n",
       "      <td>2015</td>\n",
       "    </tr>\n",
       "  </tbody>\n",
       "</table>\n",
       "</div>"
      ],
      "text/plain": [
       "          teamName playerName         year  salary\n",
       "0       Drew Brees        NOR  $26,400,000    2015\n",
       "1    Philip Rivers        SDG  $21,166,668    2015\n",
       "2   Calvin Johnson        DET  $20,558,000    2015\n",
       "3  Charles Johnson        CAR  $20,020,000    2015\n",
       "4        Matt Ryan        ATL  $19,500,000    2015"
      ]
     },
     "execution_count": 4,
     "metadata": {},
     "output_type": "execute_result"
    }
   ],
   "source": [
    "rostersPath = Path.cwd() / 'rosters.csv'\n",
    "rosters = pd.read_csv(rostersPath, header=0)\n",
    "rosters.head()"
   ]
  },
  {
   "cell_type": "code",
   "execution_count": 5,
   "metadata": {},
   "outputs": [
    {
     "data": {
      "text/html": [
       "<div>\n",
       "<style scoped>\n",
       "    .dataframe tbody tr th:only-of-type {\n",
       "        vertical-align: middle;\n",
       "    }\n",
       "\n",
       "    .dataframe tbody tr th {\n",
       "        vertical-align: top;\n",
       "    }\n",
       "\n",
       "    .dataframe thead th {\n",
       "        text-align: right;\n",
       "    }\n",
       "</style>\n",
       "<table border=\"1\" class=\"dataframe\">\n",
       "  <thead>\n",
       "    <tr style=\"text-align: right;\">\n",
       "      <th></th>\n",
       "      <th>Year</th>\n",
       "      <th>Winner</th>\n",
       "      <th>Winner Score</th>\n",
       "      <th>Loser</th>\n",
       "      <th>Loser Score</th>\n",
       "      <th>Neilson Rating</th>\n",
       "      <th>Attendance</th>\n",
       "      <th>TV Viewers</th>\n",
       "      <th>Streaming</th>\n",
       "      <th>Spanish</th>\n",
       "      <th>Out Of Home</th>\n",
       "      <th>Total</th>\n",
       "    </tr>\n",
       "  </thead>\n",
       "  <tbody>\n",
       "    <tr>\n",
       "      <th>0</th>\n",
       "      <td>1967</td>\n",
       "      <td>Green Bay Packers</td>\n",
       "      <td>35</td>\n",
       "      <td>Kansas City Chiefs</td>\n",
       "      <td>10</td>\n",
       "      <td>41.1</td>\n",
       "      <td>137492</td>\n",
       "      <td>51180000</td>\n",
       "      <td>0</td>\n",
       "      <td>0</td>\n",
       "      <td>0</td>\n",
       "      <td>51317492</td>\n",
       "    </tr>\n",
       "    <tr>\n",
       "      <th>1</th>\n",
       "      <td>1968</td>\n",
       "      <td>Green Bay Packers</td>\n",
       "      <td>33</td>\n",
       "      <td>Oakland Raiders</td>\n",
       "      <td>14</td>\n",
       "      <td>36.8</td>\n",
       "      <td>75546</td>\n",
       "      <td>39120000</td>\n",
       "      <td>0</td>\n",
       "      <td>0</td>\n",
       "      <td>0</td>\n",
       "      <td>39195546</td>\n",
       "    </tr>\n",
       "    <tr>\n",
       "      <th>2</th>\n",
       "      <td>1969</td>\n",
       "      <td>New York Jets</td>\n",
       "      <td>16</td>\n",
       "      <td>Baltimore Colts</td>\n",
       "      <td>7</td>\n",
       "      <td>36.0</td>\n",
       "      <td>75389</td>\n",
       "      <td>41660000</td>\n",
       "      <td>0</td>\n",
       "      <td>0</td>\n",
       "      <td>0</td>\n",
       "      <td>41735389</td>\n",
       "    </tr>\n",
       "    <tr>\n",
       "      <th>3</th>\n",
       "      <td>1970</td>\n",
       "      <td>Kansas City Chiefs</td>\n",
       "      <td>23</td>\n",
       "      <td>Minnesota Vikings</td>\n",
       "      <td>7</td>\n",
       "      <td>39.4</td>\n",
       "      <td>80562</td>\n",
       "      <td>44270000</td>\n",
       "      <td>0</td>\n",
       "      <td>0</td>\n",
       "      <td>0</td>\n",
       "      <td>44350562</td>\n",
       "    </tr>\n",
       "    <tr>\n",
       "      <th>4</th>\n",
       "      <td>1971</td>\n",
       "      <td>Baltimore Colts</td>\n",
       "      <td>16</td>\n",
       "      <td>Dallas Cowboys</td>\n",
       "      <td>13</td>\n",
       "      <td>39.9</td>\n",
       "      <td>79204</td>\n",
       "      <td>46040000</td>\n",
       "      <td>0</td>\n",
       "      <td>0</td>\n",
       "      <td>0</td>\n",
       "      <td>46119204</td>\n",
       "    </tr>\n",
       "  </tbody>\n",
       "</table>\n",
       "</div>"
      ],
      "text/plain": [
       "   Year              Winner  Winner Score               Loser  Loser Score  \\\n",
       "0  1967   Green Bay Packers            35  Kansas City Chiefs           10   \n",
       "1  1968   Green Bay Packers            33     Oakland Raiders           14   \n",
       "2  1969       New York Jets            16     Baltimore Colts            7   \n",
       "3  1970  Kansas City Chiefs            23   Minnesota Vikings            7   \n",
       "4  1971     Baltimore Colts            16      Dallas Cowboys           13   \n",
       "\n",
       "   Neilson Rating  Attendance  TV Viewers  Streaming  Spanish  Out Of Home  \\\n",
       "0            41.1      137492    51180000          0        0            0   \n",
       "1            36.8       75546    39120000          0        0            0   \n",
       "2            36.0       75389    41660000          0        0            0   \n",
       "3            39.4       80562    44270000          0        0            0   \n",
       "4            39.9       79204    46040000          0        0            0   \n",
       "\n",
       "      Total  \n",
       "0  51317492  \n",
       "1  39195546  \n",
       "2  41735389  \n",
       "3  44350562  \n",
       "4  46119204  "
      ]
     },
     "execution_count": 5,
     "metadata": {},
     "output_type": "execute_result"
    }
   ],
   "source": [
    "resultsSBPath = Path.cwd() / '[Cleaned]TV-Ratings.csv'\n",
    "resultsSB = pd.read_csv(resultsSBPath, header= 0)\n",
    "resultsSB.head()"
   ]
  },
  {
   "cell_type": "code",
   "execution_count": 6,
   "metadata": {},
   "outputs": [
    {
     "data": {
      "text/html": [
       "<div>\n",
       "<style scoped>\n",
       "    .dataframe tbody tr th:only-of-type {\n",
       "        vertical-align: middle;\n",
       "    }\n",
       "\n",
       "    .dataframe tbody tr th {\n",
       "        vertical-align: top;\n",
       "    }\n",
       "\n",
       "    .dataframe thead th {\n",
       "        text-align: right;\n",
       "    }\n",
       "</style>\n",
       "<table border=\"1\" class=\"dataframe\">\n",
       "  <thead>\n",
       "    <tr style=\"text-align: right;\">\n",
       "      <th></th>\n",
       "      <th>playerID</th>\n",
       "      <th>playerName</th>\n",
       "      <th>position</th>\n",
       "    </tr>\n",
       "  </thead>\n",
       "  <tbody>\n",
       "    <tr>\n",
       "      <th>0</th>\n",
       "      <td>1809</td>\n",
       "      <td>Robert Blackmon</td>\n",
       "      <td>DB</td>\n",
       "    </tr>\n",
       "    <tr>\n",
       "      <th>1</th>\n",
       "      <td>23586</td>\n",
       "      <td>Dean Wells</td>\n",
       "      <td>LB</td>\n",
       "    </tr>\n",
       "    <tr>\n",
       "      <th>2</th>\n",
       "      <td>355</td>\n",
       "      <td>Kiko Alonso</td>\n",
       "      <td>ILB</td>\n",
       "    </tr>\n",
       "    <tr>\n",
       "      <th>3</th>\n",
       "      <td>18182</td>\n",
       "      <td>Steve Ramsey</td>\n",
       "      <td>QB</td>\n",
       "    </tr>\n",
       "    <tr>\n",
       "      <th>4</th>\n",
       "      <td>16250</td>\n",
       "      <td>Cory Nelms</td>\n",
       "      <td>CB</td>\n",
       "    </tr>\n",
       "  </tbody>\n",
       "</table>\n",
       "</div>"
      ],
      "text/plain": [
       "   playerID       playerName position\n",
       "0      1809  Robert Blackmon       DB\n",
       "1     23586       Dean Wells       LB\n",
       "2       355      Kiko Alonso      ILB\n",
       "3     18182     Steve Ramsey       QB\n",
       "4     16250       Cory Nelms       CB"
      ]
     },
     "execution_count": 6,
     "metadata": {},
     "output_type": "execute_result"
    }
   ],
   "source": [
    "playersPath = Path.cwd() / 'players.csv'\n",
    "players = pd.read_csv(playersPath, header= 0)\n",
    "players.head()"
   ]
  },
  {
   "cell_type": "markdown",
   "metadata": {},
   "source": [
    "## Create Database"
   ]
  },
  {
   "cell_type": "code",
   "execution_count": 7,
   "metadata": {},
   "outputs": [],
   "source": [
    "engine = create_engine('sqlite:///nflDB.db', echo=False)"
   ]
  },
  {
   "cell_type": "markdown",
   "metadata": {},
   "source": [
    "#### This next block is primarily for reference of data structure and to allow for dropping tables to ensure no duplicate data when creating database"
   ]
  },
  {
   "cell_type": "code",
   "execution_count": 8,
   "metadata": {},
   "outputs": [],
   "source": [
    "teams_script = '''\n",
    "CREATE TABLE \"teams\" (\n",
    "  \"teamName\" varchar,\n",
    "  \"teamAbbrv\" varchar PRIMARY KEY,\n",
    "  \"teamState\" varchar,\n",
    "  \"teamCity\" varchar\n",
    ");\n",
    "'''\n",
    "\n",
    "players_script = '''\n",
    "CREATE TABLE \"players\" (\n",
    "  \"playerID\" varchar PRIMARY KEY,\n",
    "  \"playerName\" varchar,\n",
    "  \"position\" varchar\n",
    ");\n",
    "'''\n",
    "\n",
    "rosters_script = '''\n",
    "CREATE TABLE \"rosters\" (\n",
    "  \"teamName\" varchar PRIMARY KEY,\n",
    "  \"playerName\" varchar,\n",
    "  \"year\" int,\n",
    "  \"salary\" int\n",
    ");\n",
    "'''\n",
    "\n",
    "position_script = '''\n",
    "CREATE TABLE \"positions\" (\n",
    "  \"position\" varchar PRIMARY KEY,\n",
    "  \"offenseDefense\" varchar\n",
    ")\n",
    "'''\n",
    "\n",
    "resultsSB_script = '''\n",
    "CREATE TABLE \"resultsSB\" (\n",
    "    \"yearSB\" varchar PRIMARY KEY)\n",
    "'''\n",
    "\n",
    "tables = {'teams' : teams_script.strip(),\n",
    "         'players': players_script.strip(),\n",
    "         'rosters' : rosters_script.strip(),\n",
    "         'positions' : position_script.strip(),\n",
    "         'resultsSB' : resultsSB_script.strip()}"
   ]
  },
  {
   "cell_type": "code",
   "execution_count": 9,
   "metadata": {},
   "outputs": [
    {
     "name": "stdout",
     "output_type": "stream",
     "text": [
      "dropping the table teams if it already exists...\n",
      "dropping the table players if it already exists...\n",
      "dropping the table rosters if it already exists...\n",
      "dropping the table positions if it already exists...\n",
      "dropping the table resultsSB if it already exists...\n"
     ]
    }
   ],
   "source": [
    "### Drops all existing tables\n",
    "for table in tables.keys():\n",
    "    print(f'dropping the table {table} if it already exists...')\n",
    "    engine.execute(f'drop table IF EXISTS {table}')"
   ]
  },
  {
   "cell_type": "markdown",
   "metadata": {},
   "source": [
    "Keep this cell commented. This cell creates the schema in SQLite, but it is not used since pd.to_sql automatically creates the tables. "
   ]
  },
  {
   "cell_type": "code",
   "execution_count": 10,
   "metadata": {},
   "outputs": [],
   "source": [
    "# ## Creates tables based on above schema\n",
    "# for table , script in tables.items():\n",
    "#     print(f'creating the table {table}...')\n",
    "# engine.execute(f'{script}')"
   ]
  },
  {
   "cell_type": "code",
   "execution_count": 11,
   "metadata": {},
   "outputs": [],
   "source": [
    "try:\n",
    "    positions.to_sql(name='positions', con=engine, if_exists='append', index=False)\n",
    "except:\n",
    "    print(\"Data is already in there...\")"
   ]
  },
  {
   "cell_type": "code",
   "execution_count": 12,
   "metadata": {},
   "outputs": [],
   "source": [
    "try:\n",
    "    rosters.to_sql(name='rosters', con=engine, if_exists='append', index=False)\n",
    "except:\n",
    "    print(\"Data is already in there...\")"
   ]
  },
  {
   "cell_type": "code",
   "execution_count": 13,
   "metadata": {},
   "outputs": [],
   "source": [
    "try:\n",
    "    resultsSB.to_sql(name='resultsSB', con=engine, if_exists='append', index=False)\n",
    "except:\n",
    "    print(\"Data is already in there...\")"
   ]
  },
  {
   "cell_type": "code",
   "execution_count": 14,
   "metadata": {},
   "outputs": [],
   "source": [
    "try:\n",
    "    teams.to_sql(name='teams', con=engine, if_exists='append', index=False)\n",
    "except:\n",
    "    print(\"Data is already in there...\")"
   ]
  },
  {
   "cell_type": "code",
   "execution_count": 15,
   "metadata": {},
   "outputs": [],
   "source": [
    "try:\n",
    "    players.to_sql(name='players', con=engine, if_exists='append', index=False)\n",
    "except:\n",
    "    print(\"Data is already in there...\")"
   ]
  }
 ],
 "metadata": {
  "kernelspec": {
   "display_name": "Python 3",
   "language": "python",
   "name": "python3"
  },
  "language_info": {
   "codemirror_mode": {
    "name": "ipython",
    "version": 3
   },
   "file_extension": ".py",
   "mimetype": "text/x-python",
   "name": "python",
   "nbconvert_exporter": "python",
   "pygments_lexer": "ipython3",
   "version": "3.8.3"
  }
 },
 "nbformat": 4,
 "nbformat_minor": 4
}
